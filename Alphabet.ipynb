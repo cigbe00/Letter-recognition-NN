{
 "cells": [
  {
   "cell_type": "code",
   "execution_count": 1,
   "metadata": {},
   "outputs": [],
   "source": [
    "#Import the modules required\n",
    "import pandas as pd\n",
    "import numpy as np\n",
    "import matplotlib.pyplot as plt\n",
    "import pdb\n",
    "from sklearn.metrics import confusion_matrix\n",
    "from sklearn.metrics import classification_report\n",
    "import seaborn as sns\n",
    "import itertools\n",
    "import pdb"
   ]
  },
  {
   "cell_type": "code",
   "execution_count": 2,
   "metadata": {},
   "outputs": [],
   "source": [
    "#Name the headers of the data and read the file\n",
    "colName = ['lettr','x-box','ybox','width','high','onpix','x-bar','y-bar','x2bar','y2bar','xybar','x2ybr','xy2br','x-ege','xegvy','y-ege','yegvx'];\n",
    "data = pd.read_csv('LRD.data',header = None, names = colName);"
   ]
  },
  {
   "cell_type": "code",
   "execution_count": 3,
   "metadata": {},
   "outputs": [
    {
     "data": {
      "text/html": [
       "<div>\n",
       "<style scoped>\n",
       "    .dataframe tbody tr th:only-of-type {\n",
       "        vertical-align: middle;\n",
       "    }\n",
       "\n",
       "    .dataframe tbody tr th {\n",
       "        vertical-align: top;\n",
       "    }\n",
       "\n",
       "    .dataframe thead th {\n",
       "        text-align: right;\n",
       "    }\n",
       "</style>\n",
       "<table border=\"1\" class=\"dataframe\">\n",
       "  <thead>\n",
       "    <tr style=\"text-align: right;\">\n",
       "      <th></th>\n",
       "      <th>lettr</th>\n",
       "      <th>x-box</th>\n",
       "      <th>ybox</th>\n",
       "      <th>width</th>\n",
       "      <th>high</th>\n",
       "      <th>onpix</th>\n",
       "      <th>x-bar</th>\n",
       "      <th>y-bar</th>\n",
       "      <th>x2bar</th>\n",
       "      <th>y2bar</th>\n",
       "      <th>xybar</th>\n",
       "      <th>x2ybr</th>\n",
       "      <th>xy2br</th>\n",
       "      <th>x-ege</th>\n",
       "      <th>xegvy</th>\n",
       "      <th>y-ege</th>\n",
       "      <th>yegvx</th>\n",
       "    </tr>\n",
       "  </thead>\n",
       "  <tbody>\n",
       "    <tr>\n",
       "      <th>0</th>\n",
       "      <td>T</td>\n",
       "      <td>2</td>\n",
       "      <td>8</td>\n",
       "      <td>3</td>\n",
       "      <td>5</td>\n",
       "      <td>1</td>\n",
       "      <td>8</td>\n",
       "      <td>13</td>\n",
       "      <td>0</td>\n",
       "      <td>6</td>\n",
       "      <td>6</td>\n",
       "      <td>10</td>\n",
       "      <td>8</td>\n",
       "      <td>0</td>\n",
       "      <td>8</td>\n",
       "      <td>0</td>\n",
       "      <td>8</td>\n",
       "    </tr>\n",
       "    <tr>\n",
       "      <th>1</th>\n",
       "      <td>I</td>\n",
       "      <td>5</td>\n",
       "      <td>12</td>\n",
       "      <td>3</td>\n",
       "      <td>7</td>\n",
       "      <td>2</td>\n",
       "      <td>10</td>\n",
       "      <td>5</td>\n",
       "      <td>5</td>\n",
       "      <td>4</td>\n",
       "      <td>13</td>\n",
       "      <td>3</td>\n",
       "      <td>9</td>\n",
       "      <td>2</td>\n",
       "      <td>8</td>\n",
       "      <td>4</td>\n",
       "      <td>10</td>\n",
       "    </tr>\n",
       "    <tr>\n",
       "      <th>2</th>\n",
       "      <td>D</td>\n",
       "      <td>4</td>\n",
       "      <td>11</td>\n",
       "      <td>6</td>\n",
       "      <td>8</td>\n",
       "      <td>6</td>\n",
       "      <td>10</td>\n",
       "      <td>6</td>\n",
       "      <td>2</td>\n",
       "      <td>6</td>\n",
       "      <td>10</td>\n",
       "      <td>3</td>\n",
       "      <td>7</td>\n",
       "      <td>3</td>\n",
       "      <td>7</td>\n",
       "      <td>3</td>\n",
       "      <td>9</td>\n",
       "    </tr>\n",
       "    <tr>\n",
       "      <th>3</th>\n",
       "      <td>N</td>\n",
       "      <td>7</td>\n",
       "      <td>11</td>\n",
       "      <td>6</td>\n",
       "      <td>6</td>\n",
       "      <td>3</td>\n",
       "      <td>5</td>\n",
       "      <td>9</td>\n",
       "      <td>4</td>\n",
       "      <td>6</td>\n",
       "      <td>4</td>\n",
       "      <td>4</td>\n",
       "      <td>10</td>\n",
       "      <td>6</td>\n",
       "      <td>10</td>\n",
       "      <td>2</td>\n",
       "      <td>8</td>\n",
       "    </tr>\n",
       "    <tr>\n",
       "      <th>4</th>\n",
       "      <td>G</td>\n",
       "      <td>2</td>\n",
       "      <td>1</td>\n",
       "      <td>3</td>\n",
       "      <td>1</td>\n",
       "      <td>1</td>\n",
       "      <td>8</td>\n",
       "      <td>6</td>\n",
       "      <td>6</td>\n",
       "      <td>6</td>\n",
       "      <td>6</td>\n",
       "      <td>5</td>\n",
       "      <td>9</td>\n",
       "      <td>1</td>\n",
       "      <td>7</td>\n",
       "      <td>5</td>\n",
       "      <td>10</td>\n",
       "    </tr>\n",
       "  </tbody>\n",
       "</table>\n",
       "</div>"
      ],
      "text/plain": [
       "  lettr  x-box  ybox  width  high  onpix  x-bar  y-bar  x2bar  y2bar  xybar  \\\n",
       "0     T      2     8      3     5      1      8     13      0      6      6   \n",
       "1     I      5    12      3     7      2     10      5      5      4     13   \n",
       "2     D      4    11      6     8      6     10      6      2      6     10   \n",
       "3     N      7    11      6     6      3      5      9      4      6      4   \n",
       "4     G      2     1      3     1      1      8      6      6      6      6   \n",
       "\n",
       "   x2ybr  xy2br  x-ege  xegvy  y-ege  yegvx  \n",
       "0     10      8      0      8      0      8  \n",
       "1      3      9      2      8      4     10  \n",
       "2      3      7      3      7      3      9  \n",
       "3      4     10      6     10      2      8  \n",
       "4      5      9      1      7      5     10  "
      ]
     },
     "execution_count": 3,
     "metadata": {},
     "output_type": "execute_result"
    }
   ],
   "source": [
    "#Check how the dataset looks like\n",
    "data.head()"
   ]
  },
  {
   "cell_type": "code",
   "execution_count": 4,
   "metadata": {},
   "outputs": [
    {
     "data": {
      "text/plain": [
       "(20000, 17)"
      ]
     },
     "execution_count": 4,
     "metadata": {},
     "output_type": "execute_result"
    }
   ],
   "source": [
    "#Size of the data\n",
    "data.shape"
   ]
  },
  {
   "cell_type": "code",
   "execution_count": 5,
   "metadata": {},
   "outputs": [
    {
     "data": {
      "text/plain": [
       "lettr    0\n",
       "x-box    0\n",
       "ybox     0\n",
       "width    0\n",
       "high     0\n",
       "onpix    0\n",
       "x-bar    0\n",
       "y-bar    0\n",
       "x2bar    0\n",
       "y2bar    0\n",
       "xybar    0\n",
       "x2ybr    0\n",
       "xy2br    0\n",
       "x-ege    0\n",
       "xegvy    0\n",
       "y-ege    0\n",
       "yegvx    0\n",
       "dtype: int64"
      ]
     },
     "execution_count": 5,
     "metadata": {},
     "output_type": "execute_result"
    }
   ],
   "source": [
    "#Check for missing values\n",
    "pd.isnull(data).sum()"
   ]
  },
  {
   "cell_type": "markdown",
   "metadata": {},
   "source": [
    "There are no missing values in our data! Now, lets see the distribution of our classes"
   ]
  },
  {
   "cell_type": "code",
   "execution_count": 6,
   "metadata": {},
   "outputs": [
    {
     "data": {
      "image/png": "[encoded data removed]",
      "text/plain": [
       "<Figure size 576x288 with 1 Axes>"
      ]
     },
     "metadata": {
      "needs_background": "light"
     },
     "output_type": "display_data"
    }
   ],
   "source": [
    "#Check whether the classes are balanced or not\n",
    "plt.subplots(figsize=(8,4))\n",
    "sns.barplot(x = data['lettr'].value_counts().index, y = data['lettr'].value_counts().values);\n",
    "plt.xlabel('Classes');\n",
    "plt.ylabel('Frequency');"
   ]
  },
  {
   "cell_type": "markdown",
   "metadata": {},
   "source": [
    "The dataset is indeed balanced. The first step is dividing the data into training and test. For that purpose, the instances of each classes are divided into a split of 80-20 and shuffled after splitting in the function below:-"
   ]
  },
  {
   "cell_type": "code",
   "execution_count": 7,
   "metadata": {},
   "outputs": [],
   "source": [
    "#Function that divides the data into training and test randomly\n",
    "def Preprocessing(df):\n",
    "    labels_train = pd.DataFrame();\n",
    "    features_train = pd.DataFrame();\n",
    "    labels_test = pd.DataFrame();\n",
    "    features_test = pd.DataFrame();\n",
    "    #Seperate features and labels of each class\n",
    "    for i in range(26):\n",
    "        labels_class = df.lettr[df['lettr'] == chr(ord('A') + i)];\n",
    "        features_class = df[df['lettr'] == chr(ord('A') + i)].drop(['lettr'], axis = 1);\n",
    "        index = np.random.permutation(len(labels_class)); #Random Indexes to divide the dataset into train and test\n",
    "        labels_train = pd.concat([labels_train, labels_class.iloc[index[0:650:1]]]);\n",
    "        features_train = pd.concat([features_train, features_class.iloc[index[0:650:1]]]);\n",
    "        labels_test = pd.concat([labels_test, labels_class.iloc[index[650:len(labels_class)]]]);\n",
    "        features_test = pd.concat([features_test, features_class.iloc[index[650:len(labels_class)]]]);\n",
    "    #Shuffle the training data\n",
    "    shuff = np.random.permutation(len(labels_train));\n",
    "    labels_train = labels_train.iloc[shuff];\n",
    "    features_train = features_train.iloc[shuff];\n",
    "    #Shuffle the test data\n",
    "    shuff = np.random.permutation(len(labels_test));\n",
    "    labels_test = labels_test.iloc[shuff];\n",
    "    features_test = features_test.iloc[shuff];\n",
    "\n",
    "    return labels_train, features_train, labels_test, features_test;"
   ]
  },
  {
   "cell_type": "code",
   "execution_count": 8,
   "metadata": {},
   "outputs": [],
   "source": [
    "labels_train, features_train, labels_test, features_test = Preprocessing(data);\n",
    "labels_train.columns = ['lettr'];\n",
    "labels_test.columns = ['lettr'];"
   ]
  },
  {
   "cell_type": "code",
   "execution_count": 9,
   "metadata": {},
   "outputs": [],
   "source": [
    "#Naive Bayes Models\n",
    "\n",
    "#Find the prior probability of each class\n",
    "prior = np.zeros((26,1));\n",
    "\n",
    "for i in range(26):\n",
    "    prior[i] = (labels_train == chr(ord('A') + i)).sum()/len(labels_train);\n",
    "\n",
    "#Seperate the features of each class and find the probability matrix(each feature)\n",
    "likelihood = np.zeros((26,16));\n",
    "\n",
    "for i in range(26):\n",
    "    tidx = labels_train == chr(ord('A') + i);\n",
    "    temp = features_train[tidx.values];\n",
    "    likelihood[i,:] = (1 + np.sum(temp,axis = 0))/np.sum(temp).sum();\n",
    "    \n",
    "#Classify using Multinomial Naivee Bayes\n",
    "prob = np.zeros((26,1));\n",
    "pred = np.ndarray(shape=(len(labels_test),1), dtype=object);\n",
    "\n",
    "for i in range(len(labels_test)):\n",
    "    for j in range(26):\n",
    "        prob[j] = np.log(prior[j]) + np.sum(np.log(likelihood[j,:])*features_test.iloc[i])\n",
    "    maxIndex = np.argmax(prob);\n",
    "    pred[i] = chr(ord('A') + maxIndex);"
   ]
  },
  {
   "cell_type": "code",
   "execution_count": null,
   "metadata": {},
   "outputs": [],
   "source": []
  },
  {
   "cell_type": "code",
   "execution_count": null,
   "metadata": {},
   "outputs": [],
   "source": []
  },
  {
   "cell_type": "code",
   "execution_count": 10,
   "metadata": {},
   "outputs": [],
   "source": []
  },
  {
   "cell_type": "code",
   "execution_count": null,
   "metadata": {},
   "outputs": [],
   "source": []
  },
  {
   "cell_type": "code",
   "execution_count": null,
   "metadata": {},
   "outputs": [],
   "source": []
  },
  {
   "cell_type": "code",
   "execution_count": null,
   "metadata": {},
   "outputs": [],
   "source": []
  },
  {
   "cell_type": "code",
   "execution_count": 11,
   "metadata": {},
   "outputs": [],
   "source": []
  },
  {
   "cell_type": "code",
   "execution_count": null,
   "metadata": {},
   "outputs": [],
   "source": []
  },
  {
   "cell_type": "code",
   "execution_count": null,
   "metadata": {},
   "outputs": [],
   "source": []
  },
  {
   "cell_type": "code",
   "execution_count": null,
   "metadata": {},
   "outputs": [],
   "source": []
  },
  {
   "cell_type": "code",
   "execution_count": 12,
   "metadata": {},
   "outputs": [],
   "source": []
  },
  {
   "cell_type": "markdown",
   "metadata": {},
   "source": [
    "Among the 3 different versions of Naive Bayes, Multinomial Multivariate Naive Bayes performs the best with an accuracy of 69-72% with relatively good precision and recall on average. Lets compare these methods to logistic regression and neural networks"
   ]
  },
  {
   "cell_type": "code",
   "execution_count": 13,
   "metadata": {},
   "outputs": [],
   "source": [
    "#Normalize the features matrices for Neural Networks and logistic regression\n",
    "features_train = features_train/15\n",
    "features_test = features_test/15"
   ]
  },
  {
   "cell_type": "code",
   "execution_count": 14,
   "metadata": {},
   "outputs": [],
   "source": [
    "def softmax(ar):\n",
    "    exps = np.exp(ar)\n",
    "    denom = sum(exps)\n",
    "    softmax = exps/denom\n",
    "    return softmax"
   ]
  },
  {
   "cell_type": "code",
   "execution_count": 15,
   "metadata": {},
   "outputs": [],
   "source": [
    "#Implementation of Logistic regression using neural networks with SGD + momentum\n",
    "\n",
    "#Initalize weight and bias using Xaviers Initialization\n",
    "#Source:https://mnsgrg.com/2017/12/21/xavier-initialization/\n",
    "b = -np.sqrt(6/(16+26)) + 2*np.sqrt(6/(16+26))*np.random.uniform(size = (26,1))\n",
    "w = -np.sqrt(6/(16+26)) + 2*np.sqrt(6/(16+26))*np.random.uniform(size = (26,16))\n",
    "\n",
    "#Initialize Variables\n",
    "epoch = 50\n",
    "lr = 0.01\n",
    "alp = 0.35\n",
    "lbl = np.zeros((26,1))\n",
    "err = np.zeros((epoch,1))\n",
    "acc = np.zeros((epoch,1))\n",
    "db = np.zeros((26,1))   #Gradient for bias\n",
    "dw = np.zeros((26,16))  #Gradient for weight\n",
    "\n",
    "#Temp variables to save best parameters\n",
    "min_err = np.Inf\n",
    "max_acc = 0\n",
    "bpred = np.zeros((len(labels_test),1))\n",
    "\n",
    "for i in range(epoch):\n",
    "    shuff = np.random.permutation(len(labels_train))\n",
    "    #Pass over an epoch\n",
    "    for j in range(len(labels_train)):\n",
    "        cls = labels_train.iloc[shuff[j]]\n",
    "        lbl[ord(cls[0]) - 65] = 1    #One hot encoding\n",
    "\n",
    "        #Forward Pass\n",
    "        f = np.reshape(np.array(features_train.iloc[shuff[j]]),(16,1)) #Feature needs to be reshaped due to numpy default behaviour\n",
    "        tot = np.matmul(w,f) + b\n",
    "        o = softmax(tot)\n",
    "\n",
    "        #Backward Pass\n",
    "        db = alp*db + lr*(o-lbl)\n",
    "        dw = alp*dw + lr*np.matmul((o-lbl),np.transpose(f))\n",
    "        b = b - db\n",
    "        w = w - dw\n",
    "\n",
    "        lbl[:] = 0\n",
    "    \n",
    "    #Check performance on test set\n",
    "    for k in range(len(labels_test)):\n",
    "        cls = labels_test.iloc[k]\n",
    "        lbl[ord(cls[0]) - 65] = 1\n",
    "        f = np.reshape(np.array(features_test.iloc[k]),(16,1))\n",
    "        tot = np.matmul(w,f) + b\n",
    "        o = softmax(tot)\n",
    "\n",
    "        maxIdx = np.argmax(o)\n",
    "        pred[k] = chr(ord('A') + maxIdx)\n",
    "\n",
    "        if pred[k] == cls[0]:\n",
    "            acc[i] = acc[i] + 1\n",
    "\n",
    "        entropy = -lbl*np.log(o)\n",
    "        entropy = np.nan_to_num(entropy)\n",
    "        err[i] = err[i] + np.sum(entropy)\n",
    "        lbl[:] = 0\n",
    "    \n",
    "    #print('Epoch:', i, 'Accuracy:', acc[i]/len(labels_test)*100, 'Cross Entropy Error:', err[i]/len(labels_test))\n",
    "    #Minimum Error \n",
    "    if (err[i] < min_err):\n",
    "        min_err = err[i]\n",
    "        bpred = pred\n",
    "\n",
    "    #Set gradient and labels back to zero\n",
    "    lbl[:] = 0\n",
    "    db[:] = 0\n",
    "    dw[:] = 0\n"
   ]
  },
  {
   "cell_type": "code",
   "execution_count": 16,
   "metadata": {},
   "outputs": [
    {
     "name": "stdout",
     "output_type": "stream",
     "text": [
      "Best Accuracy achieved: 76.839\n"
     ]
    }
   ],
   "source": [
    "print('Best Accuracy achieved:',np.around(np.max(acc)/len(labels_test)*100,decimals=3)) "
   ]
  },
  {
   "cell_type": "code",
   "execution_count": 17,
   "metadata": {},
   "outputs": [
    {
     "data": {
      "text/plain": [
       "array([[129,   0,   0,   0,   0,   0,   0,   0,   0,   2,   0,   0,   0,\n",
       "          0,   2,   0,   0,   1,   1,   1,   2,   0,   0,   0,   1,   0],\n",
       "       [  0,  94,   0,   0,   1,   0,   0,   1,   1,   0,   0,   0,   1,\n",
       "          0,   3,   1,   2,   6,   3,   0,   0,   0,   0,   2,   1,   0],\n",
       "       [  0,   0,  72,   0,   3,   0,   1,   0,   0,   0,   5,   1,   1,\n",
       "          0,   1,   0,   0,   0,   1,   1,   0,   0,   0,   0,   0,   0],\n",
       "       [  2,   5,   0, 121,   0,   0,   0,   1,   0,   2,   1,   1,   0,\n",
       "          3,   3,   2,   0,   4,   1,   1,   2,   0,   0,   3,   0,   3],\n",
       "       [  0,   0,   6,   0,  86,   0,   7,   0,   0,   0,   1,   0,   0,\n",
       "          0,   0,   0,   2,   1,   4,   2,   0,   0,   0,   3,   0,   6],\n",
       "       [  0,   9,   2,   3,   1,  75,   4,   0,   1,   0,   0,   0,   0,\n",
       "          0,   1,  11,   0,   2,   5,   9,   0,   0,   0,   0,   2,   0],\n",
       "       [  5,   3,  31,   0,   0,   0,  43,   1,   0,   0,   7,   1,   1,\n",
       "          0,   1,   1,  18,   2,   6,   0,   0,   1,   1,   1,   0,   0],\n",
       "       [  2,   2,   2,   6,   0,   3,   0,  34,   0,   0,   5,   0,   0,\n",
       "          7,   9,   0,   0,   7,   0,   0,   4,   3,   0,   0,   0,   0],\n",
       "       [  0,   1,   0,   0,   0,   1,   0,   0,  90,   7,   0,   0,   0,\n",
       "          0,   0,   0,   0,   0,   2,   0,   0,   0,   0,   4,   0,   0],\n",
       "       [  2,   1,   0,   0,   0,   1,   0,   1,   3,  83,   0,   0,   0,\n",
       "          0,   2,   1,   1,   0,   1,   0,   0,   0,   0,   0,   0,   1],\n",
       "       [  0,   1,   5,   0,   1,   0,   2,   1,   0,   0,  62,   0,   0,\n",
       "          0,   0,   0,   0,   6,   0,   0,   3,   1,   0,   7,   0,   0],\n",
       "       [  0,   1,   4,   2,   2,   0,   6,   1,   0,   0,   1,  83,   0,\n",
       "          0,   0,   0,   4,   1,   1,   0,   2,   0,   0,   3,   0,   0],\n",
       "       [  2,   0,   0,   0,   0,   0,   0,   3,   0,   0,   2,   0, 127,\n",
       "          2,   1,   0,   0,   1,   0,   0,   1,   0,   3,   0,   0,   0],\n",
       "       [  0,   0,   0,   3,   0,   0,   0,   3,   0,   0,   5,   0,   4,\n",
       "        102,   4,   0,   0,   4,   0,   1,   1,   2,   3,   0,   1,   0],\n",
       "       [  3,   0,   0,  10,   0,   0,   0,   8,   0,   0,   0,   0,   2,\n",
       "          0,  67,   1,   2,   1,   0,   0,   1,   0,   8,   0,   0,   0],\n",
       "       [  0,   0,   0,   1,   1,   2,   5,   0,   1,   1,   1,   0,   0,\n",
       "          0,   0, 132,   1,   0,   0,   1,   0,   0,   3,   0,   4,   0],\n",
       "       [  2,   4,   0,   0,   5,   0,   2,   0,   0,   1,   1,   5,   1,\n",
       "          0,   4,   2,  92,   1,   8,   0,   0,   0,   1,   0,   3,   1],\n",
       "       [  2,   6,   0,   1,   1,   0,   0,   1,   0,   1,   4,   0,   0,\n",
       "          0,   1,   1,   1,  86,   0,   0,   0,   0,   0,   3,   0,   0],\n",
       "       [  1,   8,   0,   0,   1,   2,   0,   0,   0,   2,   0,   7,   0,\n",
       "          0,   1,   0,   1,   1,  53,   1,   0,   0,   0,   1,   3,  16],\n",
       "       [  0,   0,   0,   1,   5,   0,   5,   0,   0,   0,   1,   0,   0,\n",
       "          0,   0,   3,   0,   1,   2, 117,   5,   1,   0,   0,   1,   4],\n",
       "       [  1,   0,   3,   1,   0,   0,   0,   2,   0,   0,   0,   0,   6,\n",
       "          3,   5,   0,   0,   0,   0,   0, 141,   1,   0,   0,   0,   0],\n",
       "       [  0,   2,   0,   0,   1,   0,   0,   3,   0,   0,   1,   0,   0,\n",
       "          0,   0,   0,   0,   0,   0,   1,   1, 103,   1,   0,   1,   0],\n",
       "       [  0,   0,   0,   0,   0,   0,   0,   3,   0,   0,   0,   0,   1,\n",
       "          1,   1,   0,   0,   0,   0,   0,   1,   1,  94,   0,   0,   0],\n",
       "       [  0,   0,   0,   2,   6,   0,   0,   0,   5,   0,   1,   0,   0,\n",
       "          0,   0,   0,   3,   1,   6,   2,   3,   0,   0,  99,   6,   3],\n",
       "       [  0,   0,   0,   0,   0,   1,   0,   3,   0,   0,   0,   0,   0,\n",
       "          0,   0,   0,   5,   0,   2,  13,   2,  15,   0,   0,  95,   0],\n",
       "       [  0,   0,   0,   0,   1,   0,   0,   0,   1,   1,   0,   0,   0,\n",
       "          0,   0,   0,   1,   0,   9,   2,   0,   0,   0,   0,   0,  69]])"
      ]
     },
     "execution_count": 17,
     "metadata": {},
     "output_type": "execute_result"
    }
   ],
   "source": [
    "cnf = confusion_matrix(labels_test, bpred);cnf"
   ]
  },
  {
   "cell_type": "code",
   "execution_count": 18,
   "metadata": {},
   "outputs": [],
   "source": [
    "#print(classification_report(labels_test, bpred, target_names=data.lettr))"
   ]
  },
  {
   "cell_type": "code",
   "execution_count": 19,
   "metadata": {},
   "outputs": [
    {
     "data": {
      "text/plain": [
       "Text(0,0.5,'Cross Entropy Error')"
      ]
     },
     "execution_count": 19,
     "metadata": {},
     "output_type": "execute_result"
    },
    {
     "data": {
      "image/png": "[encoded data removed]",
      "text/plain": [
       "<Figure size 720x576 with 2 Axes>"
      ]
     },
     "metadata": {
      "needs_background": "light"
     },
     "output_type": "display_data"
    }
   ],
   "source": [
    "plt.figure(figsize=(10,8))\n",
    "plt.subplot(121)\n",
    "plt.plot(np.arange(50),acc/len(labels_test)*100)\n",
    "plt.title('Model Performance')\n",
    "plt.xlabel('Epoch')\n",
    "plt.ylabel('Accuracy')\n",
    "plt.subplot(122)\n",
    "plt.plot(np.arange(50),err/len(labels_test))\n",
    "plt.title('Model Performance')\n",
    "plt.xlabel('Epoch')\n",
    "plt.ylabel('Cross Entropy Error')"
   ]
  },
  {
   "cell_type": "code",
   "execution_count": 20,
   "metadata": {},
   "outputs": [],
   "source": [
    "#Implementation of One layer neural networks with SGD + momentum\n",
    "\n",
    "#Initalize weight and bias using Xaviers Initialization\n",
    "#Source:https://mnsgrg.com/2017/12/21/xavier-initialization/\n",
    "hn = 30 #Number of hidden neurons\n",
    "b1 = -np.sqrt(6/(16+hn)) + 2*np.sqrt(6/(16+hn))*np.random.uniform(size = (hn,1))\n",
    "w1 = -np.sqrt(6/(16+hn)) + 2*np.sqrt(6/(16+hn))*np.random.uniform(size = (hn,16))\n",
    "b2 = -np.sqrt(6/(26+hn)) + 2*np.sqrt(6/(26+hn))*np.random.uniform(size = (26,1))\n",
    "w2 = -np.sqrt(6/(26+hn)) + 2*np.sqrt(6/(26+hn))*np.random.uniform(size = (26,hn))\n",
    "\n",
    "#Initialize Variables\n",
    "epoch = 100\n",
    "lr = 0.1\n",
    "alp = 0.2\n",
    "lbl = np.zeros((26,1))\n",
    "err = np.zeros((epoch,1))\n",
    "acc = np.zeros((epoch,1))\n",
    "db1 = np.zeros((hn,1))   #Gradient for bias\n",
    "dw1 = np.zeros((hn,16))  #Gradient for weight\n",
    "db2 = np.zeros((26,1))\n",
    "dw2 = np.zeros((26,hn))\n",
    "\n",
    "#Temp variables to save best parameters\n",
    "min_err = np.Inf\n",
    "max_acc = 0\n",
    "bpred = np.zeros((len(labels_test),1))\n",
    "\n",
    "for i in range(epoch):\n",
    "    shuff = np.random.permutation(len(labels_train))\n",
    "    #Pass over an epoch\n",
    "    for j in range(len(labels_train)):\n",
    "        cls = labels_train.iloc[shuff[j]]\n",
    "        lbl[ord(cls[0]) - 65] = 1    #One hot encoding\n",
    "\n",
    "        #Forward Pass\n",
    "        f = np.reshape(np.array(features_train.iloc[shuff[j]]),(16,1)) #Feature needs to be reshaped due to numpy default behaviour\n",
    "        l1 = np.matmul(w1,f) + b1\n",
    "        o1 = 1/(1 + np.exp(-l1)) #Sigmoid\n",
    "        tot = np.matmul(w2,o1) + b2\n",
    "        o = softmax(tot)\n",
    "\n",
    "        #Backward Pass (Might be a little confusing, so try doing the steps on a small matrix)\n",
    "        db2 = alp*db2 + lr*(o-lbl)\n",
    "        dw2 = alp*dw2+ lr*np.matmul((o-lbl),np.transpose(o1))\n",
    "        db1 = alp*db1 + np.transpose(lr*np.matmul(np.transpose(o-lbl),w2))*o1*(1-o1)\n",
    "        dw1 = alp*dw1 + np.matmul((np.transpose(lr*np.matmul(np.transpose(o-lbl),w2))*o1*(1-o1)),np.transpose(f))\n",
    "\n",
    "        b1 = b1 - db1\n",
    "        w1 = w1 - dw1\n",
    "        b2 = b2 - db2\n",
    "        w2 = w2 - dw2\n",
    "\n",
    "        lbl[:] = 0\n",
    "    \n",
    "    #Check performance on test set\n",
    "    for k in range(len(labels_test)):\n",
    "        cls = labels_test.iloc[k]\n",
    "        lbl[ord(cls[0]) - 65] = 1\n",
    "        f = np.reshape(np.array(features_test.iloc[k]),(16,1))\n",
    "\n",
    "        l1 = np.matmul(w1,f) + b1\n",
    "        o1 = 1/(1 + np.exp(-l1)) #Sigmoid\n",
    "        tot = np.matmul(w2,o1) + b2\n",
    "        o = softmax(tot)\n",
    "\n",
    "        maxIdx = np.argmax(o)\n",
    "        pred[k] = chr(ord('A') + maxIdx)\n",
    "\n",
    "        if pred[k] == cls[0]:\n",
    "            acc[i] = acc[i] + 1\n",
    "\n",
    "        entropy = -lbl*np.log(o)\n",
    "        entropy = np.nan_to_num(entropy)\n",
    "        err[i] = err[i] + np.sum(entropy)\n",
    "        lbl[:] = 0\n",
    "\n",
    "    #print('Epoch:', i, 'Accuracy:', acc[i]/len(labels_test)*100, 'Cross Entropy Error:', err[i]/len(labels_test))\n",
    "    #Early Stopping condition\n",
    "    if (err[i] < min_err):\n",
    "        min_err = err[i]\n",
    "        bpred = pred\n",
    "\n",
    "    #Set gradient and labels back to zero\n",
    "    lbl[:] = 0\n",
    "    db1[:] = 0\n",
    "    dw1[:] = 0\n",
    "    db2[:] = 0\n",
    "    dw2[:] = 0\n"
   ]
  },
  {
   "cell_type": "code",
   "execution_count": 21,
   "metadata": {},
   "outputs": [
    {
     "name": "stdout",
     "output_type": "stream",
     "text": [
      "Best Accuracy achieved: 91.355\n"
     ]
    }
   ],
   "source": [
    "print('Best Accuracy achieved:',np.around(np.max(acc)/len(labels_test)*100,decimals=3)) "
   ]
  },
  {
   "cell_type": "code",
   "execution_count": 22,
   "metadata": {},
   "outputs": [
    {
     "data": {
      "text/plain": [
       "array([[136,   0,   0,   0,   0,   0,   0,   1,   0,   0,   0,   0,   0,\n",
       "          1,   0,   0,   0,   1,   0,   0,   0,   0,   0,   0,   0,   0],\n",
       "       [  0, 105,   0,   5,   0,   0,   0,   0,   0,   0,   0,   0,   0,\n",
       "          1,   0,   0,   0,   2,   2,   0,   0,   1,   0,   0,   0,   0],\n",
       "       [  0,   0,  84,   0,   1,   0,   0,   0,   0,   0,   0,   0,   0,\n",
       "          0,   0,   0,   0,   0,   0,   1,   0,   0,   0,   0,   0,   0],\n",
       "       [  0,   1,   0, 144,   0,   0,   0,   2,   0,   0,   0,   0,   0,\n",
       "          2,   1,   0,   0,   0,   0,   2,   1,   0,   0,   2,   0,   0],\n",
       "       [  0,   0,   3,   0,  97,   2,   2,   0,   0,   0,   2,   0,   0,\n",
       "          0,   0,   0,   0,   1,   0,   2,   0,   0,   0,   3,   0,   6],\n",
       "       [  0,   2,   0,   1,   2, 102,   1,   0,   5,   2,   0,   0,   0,\n",
       "          0,   0,   9,   0,   0,   0,   1,   0,   0,   0,   0,   0,   0],\n",
       "       [  2,   1,  12,   1,   1,   0,  94,   2,   0,   0,   1,   1,   0,\n",
       "          0,   0,   1,   5,   0,   0,   0,   0,   0,   1,   1,   0,   0],\n",
       "       [  0,   3,   1,   4,   0,   0,   1,  66,   0,   1,   2,   0,   0,\n",
       "          0,   1,   0,   1,   4,   0,   0,   0,   0,   0,   0,   0,   0],\n",
       "       [  0,   0,   0,   0,   0,   0,   0,   0, 101,   4,   0,   0,   0,\n",
       "          0,   0,   0,   0,   0,   0,   0,   0,   0,   0,   0,   0,   0],\n",
       "       [  0,   0,   0,   0,   0,   0,   0,   0,   1,  95,   0,   0,   0,\n",
       "          0,   0,   0,   0,   0,   0,   0,   1,   0,   0,   0,   0,   0],\n",
       "       [  0,   0,   0,   1,   0,   0,   0,   1,   0,   0,  86,   0,   0,\n",
       "          0,   0,   0,   0,   0,   0,   0,   0,   0,   0,   1,   0,   0],\n",
       "       [  0,   0,   1,   1,   3,   0,   2,   1,   1,   1,   1,  93,   0,\n",
       "          0,   0,   0,   0,   1,   0,   0,   0,   0,   0,   4,   0,   2],\n",
       "       [  2,   1,   0,   0,   0,   0,   0,   1,   0,   0,   1,   0, 131,\n",
       "          3,   0,   0,   0,   0,   0,   0,   0,   0,   3,   0,   0,   0],\n",
       "       [  0,   0,   0,   1,   1,   0,   1,   5,   0,   0,   0,   0,   0,\n",
       "        119,   3,   0,   0,   2,   0,   0,   0,   0,   1,   0,   0,   0],\n",
       "       [  0,   0,   2,   4,   0,   1,   0,   0,   0,   0,   0,   0,   0,\n",
       "          0,  91,   0,   2,   1,   0,   0,   0,   0,   2,   0,   0,   0],\n",
       "       [  0,   0,   0,   2,   1,   6,   1,   0,   0,   1,   0,   0,   0,\n",
       "          0,   0, 138,   1,   0,   0,   0,   0,   0,   0,   1,   2,   0],\n",
       "       [  0,   2,   0,   3,   1,   0,   1,   1,   0,   0,   0,   0,   0,\n",
       "          0,   0,   3, 119,   0,   0,   0,   0,   1,   0,   0,   0,   2],\n",
       "       [  0,   1,   0,   0,   0,   0,   0,   6,   0,   0,   5,   0,   0,\n",
       "          1,   1,   1,   1,  91,   0,   0,   0,   0,   0,   1,   0,   0],\n",
       "       [  0,   2,   0,   0,   2,   1,   0,   4,   1,   5,   0,   0,   0,\n",
       "          0,   2,   0,   1,   0,  71,   0,   0,   0,   0,   1,   0,   8],\n",
       "       [  0,   0,   0,   0,   0,   0,   0,   1,   2,   0,   0,   0,   0,\n",
       "          0,   0,   0,   0,   0,   0, 139,   0,   2,   0,   0,   2,   0],\n",
       "       [  0,   0,   5,   2,   0,   0,   0,   3,   0,   0,   0,   0,   1,\n",
       "          0,   0,   0,   1,   0,   0,   0, 151,   0,   0,   0,   0,   0],\n",
       "       [  0,   5,   0,   1,   0,   0,   0,   1,   0,   0,   0,   0,   0,\n",
       "          1,   0,   0,   0,   0,   0,   0,   0, 105,   0,   0,   1,   0],\n",
       "       [  0,   0,   0,   0,   0,   0,   0,   0,   0,   0,   0,   0,   0,\n",
       "          0,   1,   1,   0,   0,   0,   0,   0,   2,  98,   0,   0,   0],\n",
       "       [  0,   0,   0,   0,   0,   1,   0,   0,   1,   2,   7,   0,   0,\n",
       "          0,   0,   0,   0,   0,   0,   0,   0,   0,   0, 126,   0,   0],\n",
       "       [  0,   0,   0,   1,   0,   0,   0,   1,   0,   0,   0,   0,   0,\n",
       "          0,   0,   1,   0,   0,   0,   3,   0,   1,   1,   0, 128,   0],\n",
       "       [  0,   0,   0,   0,   0,   0,   0,   0,   0,   0,   0,   0,   0,\n",
       "          0,   0,   0,   0,   0,   0,   0,   0,   0,   0,   3,   0,  81]])"
      ]
     },
     "execution_count": 22,
     "metadata": {},
     "output_type": "execute_result"
    }
   ],
   "source": [
    "cnf = confusion_matrix(labels_test, bpred);cnf"
   ]
  },
  {
   "cell_type": "code",
   "execution_count": 23,
   "metadata": {},
   "outputs": [],
   "source": [
    "#print(classification_report(labels_test, bpred, target_names=data.lettr))"
   ]
  },
  {
   "cell_type": "code",
   "execution_count": 24,
   "metadata": {},
   "outputs": [
    {
     "data": {
      "text/plain": [
       "Text(0,0.5,'Cross Entropy Error')"
      ]
     },
     "execution_count": 24,
     "metadata": {},
     "output_type": "execute_result"
    },
    {
     "data": {
      "image/png": "[encoded data removed]",
      "text/plain": [
       "<Figure size 720x576 with 2 Axes>"
      ]
     },
     "metadata": {
      "needs_background": "light"
     },
     "output_type": "display_data"
    }
   ],
   "source": [
    "plt.figure(figsize=(10,8))\n",
    "plt.subplot(121)\n",
    "plt.plot(np.arange(100),acc/len(labels_test)*100)\n",
    "plt.title('Model Performance')\n",
    "plt.xlabel('Epoch')\n",
    "plt.ylabel('Accuracy')\n",
    "plt.subplot(122)\n",
    "plt.plot(np.arange(100),err/len(labels_test))\n",
    "plt.title('Model Performance')\n",
    "plt.xlabel('Epoch')\n",
    "plt.ylabel('Cross Entropy Error')"
   ]
  },
  {
   "cell_type": "code",
   "execution_count": 25,
   "metadata": {},
   "outputs": [],
   "source": [
    "#Implementation of 2-layer neural networks with SGD + momentum\n",
    "\n",
    "#Initalize weight and bias using Xaviers Initialization\n",
    "#Source:https://mnsgrg.com/2017/12/21/xavier-initialization/\n",
    "hn1 = 64 #Number of hidden neurons in layer 1\n",
    "hn2 = 32 #Number of hidden neurons in layer 2\n",
    "b1 = -np.sqrt(6/(16+hn1)) + 2*np.sqrt(6/(16+hn1))*np.random.uniform(size = (hn1,1))\n",
    "w1 = -np.sqrt(6/(16+hn1)) + 2*np.sqrt(6/(16+hn1))*np.random.uniform(size = (hn1,16))\n",
    "b2 = -np.sqrt(6/(hn1+hn2)) + 2*np.sqrt(6/(hn1+hn2))*np.random.uniform(size = (hn2,1))\n",
    "w2 = -np.sqrt(6/(hn1+hn2)) + 2*np.sqrt(6/(hn1+hn2))*np.random.uniform(size = (hn2,hn1))\n",
    "b3 = -np.sqrt(6/(26+hn2)) + 2*np.sqrt(6/(26+hn2))*np.random.uniform(size = (26,1))\n",
    "w3 = -np.sqrt(6/(26+hn2)) + 2*np.sqrt(6/(26+hn2))*np.random.uniform(size = (26,hn2))\n",
    "\n",
    "\n",
    "#Initialize Variables\n",
    "epoch = 100\n",
    "lr = 0.05\n",
    "alp = 0.008\n",
    "lbl = np.zeros((26,1))\n",
    "err = np.zeros((epoch,1))\n",
    "acc = np.zeros((epoch,1))\n",
    "db1 = np.zeros((hn1,1))   #Gradient for bias\n",
    "dw1 = np.zeros((hn1,16))  #Gradient for weight\n",
    "db2 = np.zeros((hn2,1))\n",
    "dw2 = np.zeros((hn2,hn1))\n",
    "db3 = np.zeros((26,1))\n",
    "dw3 = np.zeros((26,hn2))\n",
    "\n",
    "#Temp variables to save best parameters\n",
    "min_err = np.Inf\n",
    "max_acc = 0\n",
    "bpred = np.zeros((len(labels_test),1))\n",
    "\n",
    "for i in range(epoch):\n",
    "    shuff = np.random.permutation(len(labels_train))\n",
    "    #Pass over an epoch\n",
    "    for j in range(len(labels_train)):\n",
    "        cls = labels_train.iloc[shuff[j]]\n",
    "        lbl[ord(cls[0]) - 65] = 1    #One hot encoding\n",
    "\n",
    "        #Forward Pass\n",
    "        f = np.reshape(np.array(features_train.iloc[shuff[j]]),(16,1)) #Feature needs to be reshaped due to numpy default behaviour\n",
    "        l1 = np.matmul(w1,f) + b1\n",
    "        o1 = 1/(1 + np.exp(-l1)) #Sigmoid\n",
    "        l2 = np.matmul(w2,o1) + b2\n",
    "        o2 = 1/(1 + np.exp(-l2))\n",
    "        tot = np.matmul(w3,o2) + b3\n",
    "        o = softmax(tot)\n",
    "\n",
    "        #Backward Pass (Might be a little confusing, so try doing the steps on a small matrix)\n",
    "        #pdb.set_trace()\n",
    "        db3 = alp*db3 + lr*(o-lbl)\n",
    "        dw3 = alp*db3 + lr*np.matmul((o-lbl),np.transpose(o2))\n",
    "        db2 = alp*db2 + np.transpose(lr*np.matmul(np.transpose(o-lbl),w3))*o2*(1-o2)\n",
    "        dw2 = alp*dw2 + np.transpose(lr*np.matmul(np.transpose(o-lbl),w3))*o2*(1-o2)*np.transpose(o1)\n",
    "        db1 = alp*db1 + np.transpose(np.matmul(np.transpose(np.transpose(lr*np.matmul(np.transpose(o-lbl),w3))*o2*(1-o2)),w2))*o1*(1-o1)\n",
    "        dw1 = alp*dw1 + np.matmul(np.transpose(np.matmul(np.transpose(np.transpose(lr*np.matmul(np.transpose(o-lbl),w3))*o2*(1-o2)),w2))*o1*(1-o1),np.transpose(f))\n",
    "\n",
    "        b1 = b1 - db1\n",
    "        w1 = w1 - dw1\n",
    "        b2 = b2 - db2\n",
    "        w2 = w2 - dw2\n",
    "        b3 = b3 - db3\n",
    "        w3 = w3 - dw3\n",
    "\n",
    "        lbl[:] = 0\n",
    "    \n",
    "    #Check performance on test set\n",
    "    for k in range(len(labels_test)):\n",
    "        cls = labels_test.iloc[k]\n",
    "        lbl[ord(cls[0]) - 65] = 1\n",
    "        f = np.reshape(np.array(features_test.iloc[k]),(16,1))\n",
    "\n",
    "        l1 = np.matmul(w1,f) + b1\n",
    "        o1 = 1/(1 + np.exp(-l1)) #Sigmoid\n",
    "        l2 = np.matmul(w2,o1) + b2\n",
    "        o2 = 1/(1 + np.exp(-l2))\n",
    "        tot = np.matmul(w3,o2) + b3\n",
    "        o = softmax(tot)\n",
    "\n",
    "        maxIdx = np.argmax(o)\n",
    "        pred[k] = chr(ord('A') + maxIdx)\n",
    "\n",
    "        if pred[k] == cls[0]:\n",
    "            acc[i] = acc[i] + 1\n",
    "\n",
    "        entropy = -lbl*np.log(o)\n",
    "        entropy = np.nan_to_num(entropy)\n",
    "        err[i] = err[i] + np.sum(entropy)\n",
    "        lbl[:] = 0\n",
    "\n",
    "    #pdb.set_trace()\n",
    "    #print('Epoch:', i, 'Accuracy:', acc[i]/len(labels_test)*100, 'Cross Entropy Error:', err[i]/len(labels_test))\n",
    "    #Early Stopping condition\n",
    "    if (err[i] < min_err):\n",
    "        min_err = err[i]\n",
    "        bpred = pred\n",
    "\n",
    "    #Set gradient and labels back to zero\n",
    "    lbl[:] = 0\n",
    "    db1[:] = 0\n",
    "    dw1[:] = 0\n",
    "    db2[:] = 0\n",
    "    dw2[:] = 0\n"
   ]
  },
  {
   "cell_type": "code",
   "execution_count": 26,
   "metadata": {},
   "outputs": [
    {
     "name": "stdout",
     "output_type": "stream",
     "text": [
      "Best Accuracy achieved: 95.968\n"
     ]
    }
   ],
   "source": [
    "print('Best Accuracy achieved:',np.around(np.max(acc)/len(labels_test)*100,decimals=3)) "
   ]
  },
  {
   "cell_type": "code",
   "execution_count": 27,
   "metadata": {},
   "outputs": [
    {
     "data": {
      "text/plain": [
       "array([[139,   0,   0,   0,   0,   0,   0,   0,   0,   0,   0,   0,   0,\n",
       "          0,   0,   0,   0,   0,   0,   0,   0,   0,   0,   0,   0,   0],\n",
       "       [  0, 110,   0,   0,   1,   0,   0,   2,   0,   0,   0,   0,   1,\n",
       "          0,   1,   0,   0,   0,   0,   0,   0,   1,   0,   0,   0,   0],\n",
       "       [  0,   0,  85,   0,   0,   0,   0,   0,   1,   0,   0,   0,   0,\n",
       "          0,   0,   0,   0,   0,   0,   0,   0,   0,   0,   0,   0,   0],\n",
       "       [  0,   0,   0, 151,   0,   0,   0,   0,   1,   0,   0,   0,   0,\n",
       "          0,   1,   0,   0,   1,   0,   0,   0,   0,   0,   0,   1,   0],\n",
       "       [  0,   0,   3,   0, 107,   1,   2,   0,   0,   0,   1,   2,   0,\n",
       "          0,   0,   0,   0,   0,   1,   0,   0,   0,   0,   1,   0,   0],\n",
       "       [  0,   1,   0,   0,   0, 118,   0,   0,   4,   0,   0,   0,   0,\n",
       "          0,   0,   1,   0,   0,   0,   1,   0,   0,   0,   0,   0,   0],\n",
       "       [  0,   0,   1,   0,   0,   0, 118,   0,   0,   0,   0,   0,   0,\n",
       "          0,   2,   0,   1,   0,   0,   0,   0,   1,   0,   0,   0,   0],\n",
       "       [  0,   2,   0,   1,   0,   0,   0,  75,   0,   1,   0,   0,   0,\n",
       "          0,   1,   0,   0,   3,   0,   0,   1,   0,   0,   0,   0,   0],\n",
       "       [  0,   0,   0,   0,   0,   0,   0,   0, 104,   1,   0,   0,   0,\n",
       "          0,   0,   0,   0,   0,   0,   0,   0,   0,   0,   0,   0,   0],\n",
       "       [  0,   0,   0,   0,   0,   0,   0,   0,   7,  87,   0,   0,   0,\n",
       "          0,   0,   0,   0,   1,   0,   0,   1,   0,   0,   0,   0,   1],\n",
       "       [  0,   0,   0,   1,   0,   0,   1,   2,   0,   0,  82,   0,   0,\n",
       "          0,   0,   0,   0,   1,   0,   0,   0,   0,   0,   2,   0,   0],\n",
       "       [  0,   0,   0,   0,   0,   0,   0,   1,   0,   0,   0, 107,   0,\n",
       "          0,   0,   0,   0,   0,   1,   0,   0,   0,   0,   2,   0,   0],\n",
       "       [  1,   0,   0,   0,   0,   0,   0,   0,   0,   0,   0,   0, 139,\n",
       "          0,   0,   0,   0,   0,   0,   0,   0,   1,   1,   0,   0,   0],\n",
       "       [  0,   0,   0,   0,   0,   1,   0,   2,   0,   0,   0,   0,   1,\n",
       "        123,   1,   0,   0,   5,   0,   0,   0,   0,   0,   0,   0,   0],\n",
       "       [  0,   0,   0,   1,   0,   0,   1,   0,   0,   0,   0,   0,   0,\n",
       "          0,  97,   0,   3,   1,   0,   0,   0,   0,   0,   0,   0,   0],\n",
       "       [  0,   0,   0,   1,   0,   5,   2,   0,   0,   0,   0,   0,   0,\n",
       "          0,   0, 143,   0,   0,   0,   0,   0,   0,   1,   0,   1,   0],\n",
       "       [  0,   1,   0,   1,   0,   0,   1,   0,   1,   0,   0,   0,   0,\n",
       "          0,   0,   1, 125,   0,   0,   0,   3,   0,   0,   0,   0,   0],\n",
       "       [  0,   2,   0,   1,   0,   1,   0,   2,   0,   0,   1,   0,   0,\n",
       "          0,   0,   0,   0,  99,   0,   0,   0,   0,   1,   1,   0,   0],\n",
       "       [  0,   2,   0,   1,   3,   2,   0,   0,   0,   0,   0,   0,   0,\n",
       "          0,   0,   0,   0,   0,  90,   0,   0,   0,   0,   0,   0,   0],\n",
       "       [  0,   0,   0,   1,   0,   1,   0,   0,   0,   0,   1,   1,   0,\n",
       "          0,   0,   0,   0,   0,   0, 141,   1,   0,   0,   0,   0,   0],\n",
       "       [  1,   0,   0,   0,   0,   0,   0,   0,   0,   0,   0,   0,   1,\n",
       "          0,   1,   0,   0,   0,   0,   1, 159,   0,   0,   0,   0,   0],\n",
       "       [  0,   2,   0,   0,   0,   0,   0,   0,   0,   0,   0,   0,   0,\n",
       "          0,   0,   0,   0,   0,   0,   0,   0, 112,   0,   0,   0,   0],\n",
       "       [  0,   0,   0,   0,   0,   0,   0,   0,   0,   0,   0,   0,   0,\n",
       "          0,   0,   0,   0,   0,   0,   0,   0,   0, 101,   0,   1,   0],\n",
       "       [  0,   0,   1,   0,   0,   0,   0,   0,   0,   0,   0,   0,   0,\n",
       "          0,   0,   0,   0,   0,   0,   1,   0,   0,   0, 135,   0,   0],\n",
       "       [  1,   0,   0,   0,   0,   0,   0,   0,   0,   0,   0,   0,   0,\n",
       "          0,   0,   0,   0,   0,   0,   3,   0,   9,   0,   0, 123,   0],\n",
       "       [  0,   0,   0,   0,   0,   0,   0,   0,   0,   1,   0,   0,   0,\n",
       "          0,   0,   0,   0,   0,   0,   0,   0,   0,   0,   0,   0,  83]])"
      ]
     },
     "execution_count": 27,
     "metadata": {},
     "output_type": "execute_result"
    }
   ],
   "source": [
    "cnf = confusion_matrix(labels_test, bpred);cnf"
   ]
  },
  {
   "cell_type": "code",
   "execution_count": 28,
   "metadata": {},
   "outputs": [],
   "source": [
    "#print(classification_report(labels_test, bpred, target_names=data.lettr))"
   ]
  },
  {
   "cell_type": "code",
   "execution_count": 29,
   "metadata": {},
   "outputs": [
    {
     "data": {
      "text/plain": [
       "Text(0,0.5,'Cross Entropy Error')"
      ]
     },
     "execution_count": 29,
     "metadata": {},
     "output_type": "execute_result"
    },
    {
     "data": {
      "image/png": "[encoded data removed]",
      "text/plain": [
       "<Figure size 720x576 with 2 Axes>"
      ]
     },
     "metadata": {
      "needs_background": "light"
     },
     "output_type": "display_data"
    }
   ],
   "source": [
    "plt.figure(figsize=(10,8))\n",
    "plt.subplot(121)\n",
    "plt.plot(np.arange(100),acc/len(labels_test)*100)\n",
    "plt.title('Model Performance')\n",
    "plt.xlabel('Epoch')\n",
    "plt.ylabel('Accuracy')\n",
    "plt.subplot(122)\n",
    "plt.plot(np.arange(100),err/len(labels_test))\n",
    "plt.title('Model Performance')\n",
    "plt.xlabel('Epoch')\n",
    "plt.ylabel('Cross Entropy Error')"
   ]
  },
  {
   "cell_type": "markdown",
   "metadata": {},
   "source": [
    "The best machine learning models for tabular data like the one shown above are decision trees and random forests. Our neural network with 2 hidden layers does relatively very well on the dataset achieving 95-96% accuracy. Lets see how good this performance is compared to decision trees and random forests."
   ]
  },
  {
   "cell_type": "code",
   "execution_count": null,
   "metadata": {},
   "outputs": [],
   "source": []
  },
  {
   "cell_type": "code",
   "execution_count": null,
   "metadata": {},
   "outputs": [],
   "source": []
  },
  {
   "cell_type": "code",
   "execution_count": null,
   "metadata": {},
   "outputs": [],
   "source": []
  },
  {
   "cell_type": "code",
   "execution_count": 30,
   "metadata": {},
   "outputs": [],
   "source": []
  },
  {
   "cell_type": "code",
   "execution_count": null,
   "metadata": {},
   "outputs": [],
   "source": []
  },
  {
   "cell_type": "code",
   "execution_count": null,
   "metadata": {},
   "outputs": [],
   "source": []
  },
  {
   "cell_type": "code",
   "execution_count": 31,
   "metadata": {},
   "outputs": [],
   "source": []
  },
  {
   "cell_type": "markdown",
   "metadata": {},
   "source": [
    "Using just decision trees results in an accuracy of 87% which is poorer than our Nerual Net. However, Random Forests (no of trees - 50) out-perform the neural networks, although by just a small margin. This shows that our networks performance is good enough!  "
   ]
  },
  {
   "cell_type": "code",
   "execution_count": null,
   "metadata": {},
   "outputs": [],
   "source": []
  },
  {
   "cell_type": "code",
   "execution_count": null,
   "metadata": {},
   "outputs": [],
   "source": []
  }
 ],
 "metadata": {
  "kernelspec": {
   "display_name": "Python 3",
   "language": "python",
   "name": "python3"
  },
  "language_info": {
   "codemirror_mode": {
    "name": "ipython",
    "version": 3
   },
   "file_extension": ".py",
   "mimetype": "text/x-python",
   "name": "python",
   "nbconvert_exporter": "python",
   "pygments_lexer": "ipython3",
   "version": "3.6.10"
  }
 },
 "nbformat": 4,
 "nbformat_minor": 2
}
